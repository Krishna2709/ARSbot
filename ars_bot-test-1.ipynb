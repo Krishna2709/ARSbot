{
 "cells": [
  {
   "cell_type": "code",
   "execution_count": 1,
   "metadata": {},
   "outputs": [],
   "source": [
    "import os\n",
    "from openai import OpenAI\n",
    "client = OpenAI(api_key=\"sk-proj-*****\")"
   ]
  },
  {
   "cell_type": "code",
   "execution_count": 2,
   "metadata": {},
   "outputs": [],
   "source": [
    "assistatnt = client.beta.assistants.create(\n",
    "    model=\"gpt-3.5-turbo\",\n",
    "    instructions=\"You are a customer support chatbot for Advanced Recovery System a behavioral health company. Use your knowledge base to best respond to user inquiries.\",\n",
    "    name=\"ARS Chatbot\",\n",
    "    tools=[{\"type\": \"file_search\"}],\n",
    ")"
   ]
  },
  {
   "cell_type": "code",
   "execution_count": 3,
   "metadata": {},
   "outputs": [
    {
     "name": "stdout",
     "output_type": "stream",
     "text": [
      "completed\n"
     ]
    }
   ],
   "source": [
    "vector_store = client.beta.vector_stores.create(name=\"ARS Locations and Programs\")\n",
    "\n",
    "with open(\"ars.md\", \"rb\") as file:\n",
    "    file_batch = client.beta.vector_stores.files.upload_and_poll(\n",
    "        vector_store_id=vector_store.id, file=file\n",
    "    )\n",
    "\n",
    "print(file_batch.status)"
   ]
  },
  {
   "cell_type": "code",
   "execution_count": 4,
   "metadata": {},
   "outputs": [],
   "source": [
    "assistatnt = client.beta.assistants.update(\n",
    "    assistant_id=assistatnt.id,\n",
    "    tool_resources={\n",
    "        \"file_search\": {\n",
    "            \"vector_store_ids\": [vector_store.id]\n",
    "        }\n",
    "    },\n",
    ")"
   ]
  },
  {
   "cell_type": "code",
   "execution_count": 5,
   "metadata": {},
   "outputs": [],
   "source": [
    "thread = client.beta.threads.create()\n",
    "\n",
    "thread_message = client.beta.threads.messages.create(\n",
    "    thread_id=thread.id,\n",
    "    role=\"user\",\n",
    "    content=\"What programs do you offer?\",\n",
    ")"
   ]
  },
  {
   "cell_type": "code",
   "execution_count": 6,
   "metadata": {},
   "outputs": [],
   "source": [
    "run = client.beta.threads.runs.create_and_poll(\n",
    "    thread_id=thread.id,\n",
    "    assistant_id=assistatnt.id,\n",
    "    instructions=\"Only user the customer question. If no information is found, please tell the user that you are unable to find the information and offer to connect them with a representative.\",\n",
    ")"
   ]
  },
  {
   "cell_type": "code",
   "execution_count": 7,
   "metadata": {},
   "outputs": [
    {
     "name": "stdout",
     "output_type": "stream",
     "text": [
      "The programs offered by Advanced Recovery Systems include medical detox, inpatient/residential rehab, partial hospitalization, outpatient rehab, intensive outpatient programs, individual and group therapy, teletherapy, medication-assisted treatment, and various amenities at different locations such as fitness facilities, basketball courts, swimming pools, and therapeutic activities like yoga and art. The facilities offering these programs include The Recovery Village Ridgefield, The Recovery Village Umatilla, Orlando Recovery Center, The Recovery Village Palm Beach at Baptist Health, The Recovery Village Palmer Lake, Denver Mental Health & Counseling, and more. Each facility provides specific levels of care and amenities tailored to the needs of patients seeking treatment for substance use disorders and co-occurring mental health conditions.【4:0†source】【4:1†source】【4:2†source】.\n"
     ]
    }
   ],
   "source": [
    "messages = list(client.beta.threads.messages.list(thread_id=thread.id, run_id=run.id))\n",
    "message_content = messages[0].content[0].text\n",
    "print(message_content.value)"
   ]
  }
 ],
 "metadata": {
  "kernelspec": {
   "display_name": "llmsenv",
   "language": "python",
   "name": "python3"
  },
  "language_info": {
   "codemirror_mode": {
    "name": "ipython",
    "version": 3
   },
   "file_extension": ".py",
   "mimetype": "text/x-python",
   "name": "python",
   "nbconvert_exporter": "python",
   "pygments_lexer": "ipython3",
   "version": "3.12.1"
  }
 },
 "nbformat": 4,
 "nbformat_minor": 2
}
