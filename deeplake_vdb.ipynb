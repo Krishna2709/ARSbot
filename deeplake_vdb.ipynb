{
 "cells": [
  {
   "cell_type": "code",
   "execution_count": 1,
   "metadata": {},
   "outputs": [
    {
     "name": "stderr",
     "output_type": "stream",
     "text": [
      "c:\\Users\\krish\\miniconda3\\envs\\llmsenv\\Lib\\site-packages\\deeplake\\util\\check_latest_version.py:32: UserWarning: A newer version of deeplake (3.9.9) is available. It's recommended that you update to the latest version using `pip install -U deeplake`.\n",
      "  warnings.warn(\n"
     ]
    },
    {
     "data": {
      "text/plain": [
       "True"
      ]
     },
     "execution_count": 1,
     "metadata": {},
     "output_type": "execute_result"
    }
   ],
   "source": [
    "import os\n",
    "\n",
    "from langchain_openai import ChatOpenAI, OpenAIEmbeddings\n",
    "from langchain_text_splitters import RecursiveCharacterTextSplitter\n",
    "from langchain_community.document_loaders import UnstructuredMarkdownLoader\n",
    "from langchain.vectorstores import DeepLake\n",
    "\n",
    "from dotenv import load_dotenv\n",
    "load_dotenv()"
   ]
  },
  {
   "cell_type": "code",
   "execution_count": 2,
   "metadata": {},
   "outputs": [],
   "source": [
    "loader = UnstructuredMarkdownLoader(\n",
    "    file_path=\"C:/Users/***/ars.md\"\n",
    ")\n",
    "\n",
    "docs = loader.load()\n",
    "text_splitter = RecursiveCharacterTextSplitter(chunk_size=1000, chunk_overlap=100)\n",
    "splits = text_splitter.split_documents(docs)\n",
    "\n",
    "\n",
    "embeddings = OpenAIEmbeddings(model=\"text-embedding-ada-002\")"
   ]
  },
  {
   "cell_type": "markdown",
   "metadata": {},
   "source": [
    "#### Creating a vector store on Activeloop"
   ]
  },
  {
   "cell_type": "code",
   "execution_count": null,
   "metadata": {},
   "outputs": [],
   "source": [
    "my_activeloop_org_id = \"****\"\n",
    "my_activeloop_dataset_name = \"****\"\n",
    "dataset_path = f\"hub://{my_activeloop_org_id}/{my_activeloop_dataset_name}\"\n",
    "db = DeepLake(dataset_path, embedding=embeddings)"
   ]
  },
  {
   "cell_type": "markdown",
   "metadata": {},
   "source": [
    "#### Creating a vector store on AWS S3"
   ]
  },
  {
   "cell_type": "code",
   "execution_count": 3,
   "metadata": {},
   "outputs": [
    {
     "name": "stderr",
     "output_type": "stream",
     "text": [
      "Creating 33 embeddings in 1 batches of size 33:: 100%|██████████| 1/1 [00:04<00:00,  4.33s/it]"
     ]
    },
    {
     "name": "stdout",
     "output_type": "stream",
     "text": [
      "Dataset(path='s3://arsbot-dataset/prog-locs/', tensors=['text', 'metadata', 'embedding', 'id'])\n",
      "\n",
      "  tensor      htype      shape      dtype  compression\n",
      "  -------    -------    -------    -------  ------- \n",
      "   text       text      (33, 1)      str     None   \n",
      " metadata     json      (33, 1)      str     None   \n",
      " embedding  embedding  (33, 1536)  float32   None   \n",
      "    id        text      (33, 1)      str     None   \n"
     ]
    },
    {
     "name": "stderr",
     "output_type": "stream",
     "text": [
      "\n"
     ]
    }
   ],
   "source": [
    "dataset_path = \"s3://BUCKET_NAME/FOLDER_NAME/\"\n",
    "\n",
    "db = DeepLake.from_documents(\n",
    "    splits,\n",
    "    dataset_path=dataset_path,\n",
    "    embedding=embeddings,\n",
    "    overwrite=True,\n",
    "    creds={\n",
    "        \"aws_access_key_id\": os.getenv(\"AWS_ACCESS_KEY_ID\"),\n",
    "        \"aws_secret_access_key\": os.getenv(\"AWS_SECRET_ACCESS_KEY\")\n",
    "    }\n",
    ")"
   ]
  },
  {
   "cell_type": "code",
   "execution_count": 4,
   "metadata": {},
   "outputs": [
    {
     "name": "stdout",
     "output_type": "stream",
     "text": [
      "Deep Lake Dataset in s3://arsbot-dataset/prog-locs/ already exists, loading from the storage\n"
     ]
    }
   ],
   "source": [
    "db_test = DeepLake(\n",
    "    dataset_path=dataset_path,\n",
    "    read_only=True,\n",
    "    creds={\n",
    "        \"aws_access_key_id\": os.getenv(\"AWS_ACCESS_KEY_ID\"),\n",
    "        \"aws_secret_access_key\": os.getenv(\"AWS_SECRET_ACCESS_KEY\")\n",
    "    }\n",
    ")"
   ]
  },
  {
   "cell_type": "code",
   "execution_count": 6,
   "metadata": {},
   "outputs": [
    {
     "name": "stdout",
     "output_type": "stream",
     "text": [
      "Dataset(path='s3://arsbot-dataset/prog-locs/', read_only=True, tensors=['embedding', 'id', 'metadata', 'text'])\n",
      "\n",
      "  tensor      htype      shape      dtype  compression\n",
      "  -------    -------    -------    -------  ------- \n",
      " embedding  embedding  (33, 1536)  float32   None   \n",
      "    id        text      (33, 1)      str     None   \n",
      " metadata     json      (33, 1)      str     None   \n",
      "   text       text      (33, 1)      str     None   \n"
     ]
    }
   ],
   "source": [
    "db_test.vectorstore.summary()"
   ]
  },
  {
   "cell_type": "code",
   "execution_count": 8,
   "metadata": {},
   "outputs": [
    {
     "data": {
      "text/plain": [
       "[Document(page_content='Find A Location Near You\\n\\nInpatient Drug and Alcohol Programs\\n\\nOur inpatient drug and alcohol treatment allows patients the opportunity to focus on understanding and healing from their addiction while also treating any co-occurring mental health conditions.\\n\\nInpatient Rehab at Advanced Recovery Systems\\n\\nOur inpatient rehab programs, also commonly known as residential treatment, offers a highly structured and intensive approach to addiction treatment. Patients live on-site at our facilities to focus on their recovery and receive evidence-based programming from our licensed staff throughout the day.', metadata={'source': 'C:/Users/krish/Desktop/OpTS/LanguageModels/ars_bot/ars.md'}),\n",
       " Document(page_content='Speak With Inpatient Admissions\\nA Recovery Advocate can answer any questions and help you get started in inpatient rehabilitation.\\n\\nOur Outpatient Rehab Program\\n\\nOur outpatient facilities offer ongoing drug and alcohol addiction treatment in addition to primary care for mental health conditions.\\n\\nOutpatient Rehab at Advanced Recovery Systems\\n\\nWe offer outpatient treatment programs as part of a full continuum of care through our nationwide network of addiction treatment facilities along with dedicated outpatient centers in Florida and Colorado. Outpatient program offer patients an affordable, flexible approach to rehab and mental health support.\\n\\nOur Outpatient Locations\\n\\nWe offer dedicated outpatient addiction and mental health treatment programs at the following Advanced Recovery Systems facilities:\\n- The Recovery Village Miami at Baptist Health\\n- Denver Mental Health & Counseling\\n- Orlando Outpatient Center\\n\\nIs outpatient treatment right for me?', metadata={'source': 'C:/Users/krish/Desktop/OpTS/LanguageModels/ars_bot/ars.md'}),\n",
       " Document(page_content='Complete Inpatient Rehab With Us\\nWe offer inpatient, residential programs at the following Advanced Recovery Systems facilities:\\n- The Recovery Village Atlanta\\n- The Recovery Village Cherry Hill at Cooper\\n- The Recovery Village Columbus\\n- IAFF Center of Excellence\\n- The Recovery Village Kansas City\\n- Orlando Recovery Center\\n- The Recovery Village Palm Beach at Baptist Health\\n- The Recovery Village Palmer Lake\\n- The Recovery Village Ridgefield\\n- The Recovery Village Umatilla\\n\\nKnowing when it’s time for inpatient treatment\\n\\nInpatient treatment may be the right treatment option for you if any of the following statements are true:\\n- Alcohol or drug abuse has made my life worse\\n- Avoiding triggering people or places while I recover would help\\n- My home feels unstable or makes me want to drink or use drugs\\n- I’ve tried outpatient rehab before, but it didn’t work\\n\\nWhat Does Our Inpatient Rehab Include?\\n\\nIndividual and group therapy\\n\\n24/7 medical support\\n\\nHealing amenities & activities', metadata={'source': 'C:/Users/krish/Desktop/OpTS/LanguageModels/ars_bot/ars.md'}),\n",
       " Document(page_content='Find A Location Near You\\n\\nAbout Outpatient Rehab\\n\\nOutpatient rehab can be the continuation of a treatment plan started in an inpatient rehab or a starting point for patients who require the flexibility to continue working or handling other responsibilities. These patients continue to live at home and commute to the center for medical support and counseling appointments.\\n\\nWhat are the benefits of outpatient rehab?\\n\\nOutpatient treatment can be beneficial if you’re unable to take time away from work, school or other responsibilities to start treatment. It’s also beneficial as a transition from inpatient care back to your normal life, as it offers accountability and support from mental health professionals. Another benefit is that it’s typically less expensive than inpatient rehab treatment.\\n\\nWhat will I learn from outpatient rehab?', metadata={'source': 'C:/Users/krish/Desktop/OpTS/LanguageModels/ars_bot/ars.md'})]"
      ]
     },
     "execution_count": 8,
     "metadata": {},
     "output_type": "execute_result"
    }
   ],
   "source": [
    "db.similarity_search(\"Programs offering\")"
   ]
  },
  {
   "cell_type": "code",
   "execution_count": null,
   "metadata": {},
   "outputs": [],
   "source": []
  }
 ],
 "metadata": {
  "kernelspec": {
   "display_name": "llmsenv",
   "language": "python",
   "name": "python3"
  },
  "language_info": {
   "codemirror_mode": {
    "name": "ipython",
    "version": 3
   },
   "file_extension": ".py",
   "mimetype": "text/x-python",
   "name": "python",
   "nbconvert_exporter": "python",
   "pygments_lexer": "ipython3",
   "version": "3.12.1"
  }
 },
 "nbformat": 4,
 "nbformat_minor": 2
}
