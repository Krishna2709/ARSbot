{
 "cells": [
  {
   "cell_type": "code",
   "execution_count": 1,
   "metadata": {},
   "outputs": [],
   "source": [
    "import logging\n",
    "import pandas as pd\n",
    "import time\n",
    "\n",
    "from bs4 import BeautifulSoup\n",
    "\n",
    "from selenium import webdriver\n",
    "from selenium.webdriver.edge.options import Options\n",
    "from selenium.webdriver.common.by import By\n",
    "from selenium.webdriver.common.keys import Keys\n",
    "\n",
    "logging.basicConfig(level=logging.INFO)"
   ]
  },
  {
   "cell_type": "code",
   "execution_count": 3,
   "metadata": {},
   "outputs": [],
   "source": [
    "def extract_html(url):\n",
    "\n",
    "    edge_options = Options()\n",
    "    user_agent = \"Edge/122.0.2365.92\"\n",
    "    edge_options.add_argument(f'user-agent={user_agent}')\n",
    "    \n",
    "    driver = webdriver.Edge(options=edge_options)\n",
    "    driver.get(url)\n",
    "    time.sleep(3)\n",
    "\n",
    "    for _ in range(10):\n",
    "        driver.find_element(By.TAG_NAME, 'body').send_keys(Keys.PAGE_DOWN)\n",
    "        time.sleep(1)\n",
    "        \n",
    "    html_content = driver.page_source\n",
    "    driver.quit()\n",
    "\n",
    "    soup = BeautifulSoup(html_content, 'html.parser')\n",
    "\n",
    "    # List of tags to remove\n",
    "    unwanted_tags = ['script', 'style', 'button', 'input', 'img', 'video', 'head', 'svg']\n",
    "\n",
    "    for tag in unwanted_tags:\n",
    "        for unwanted_tag in soup.find_all(tag):\n",
    "            unwanted_tag.decompose()  # Remove the tag from the soup\n",
    "    \n",
    "    return soup"
   ]
  },
  {
   "cell_type": "code",
   "execution_count": 4,
   "metadata": {},
   "outputs": [],
   "source": [
    "def save_to_text_file(text, filename='ars.txt'):\n",
    "    with open(filename, 'a') as file:\n",
    "        file.write(text + '\\n\\n')"
   ]
  },
  {
   "cell_type": "markdown",
   "metadata": {},
   "source": [
    "## Locations"
   ]
  },
  {
   "cell_type": "code",
   "execution_count": 5,
   "metadata": {},
   "outputs": [],
   "source": [
    "soup = extract_html('https://www.advancedrecoverysystems.com/centers/')\n",
    "entry_content = soup.find('div', class_='eb-column-wrapper eb-column-bcfqixc')\n",
    "save_to_text_file(entry_content.text)"
   ]
  },
  {
   "cell_type": "code",
   "execution_count": 6,
   "metadata": {},
   "outputs": [
    {
     "data": {
      "text/plain": [
       "['https://www.advancedrecoverysystems.com/centers/recovery-village-palmer-lake/',\n",
       " 'https://www.advancedrecoverysystems.com/centers/denver-mental-health-and-counseling/',\n",
       " 'https://www.advancedrecoverysystems.com/centers/the-recovery-village/',\n",
       " 'https://www.advancedrecoverysystems.com/centers/orlando-recovery-center/',\n",
       " 'https://www.advancedrecoverysystems.com/centers/recovery-village-palm-beach/',\n",
       " 'https://www.advancedrecoverysystems.com/centers/orlando-outpatient/',\n",
       " 'https://www.advancedrecoverysystems.com/centers/recovery-village-miami/',\n",
       " 'https://www.advancedrecoverysystems.com/centers/the-recovery-village-atlanta/',\n",
       " 'https://www.advancedrecoverysystems.com/centers/iaff-recovery-center/',\n",
       " 'https://www.advancedrecoverysystems.com/centers/the-recovery-village-kansas-city/',\n",
       " 'https://www.advancedrecoverysystems.com/centers/the-recovery-village-cherry-hill/',\n",
       " '/centers/the-recovery-village-columbus/',\n",
       " 'https://www.advancedrecoverysystems.com/centers/recovery-village-ridgefield/',\n",
       " 'https://www.advancedrecoverysystems.com/centers/the-recovery-village-ridgefield-detox/']"
      ]
     },
     "execution_count": 6,
     "metadata": {},
     "output_type": "execute_result"
    }
   ],
   "source": [
    "locations = soup.find('div', class_='wp-block-group__inner-container is-layout-constrained wp-block-group-is-layout-constrained')\n",
    "locations_urls = locations.find_all('a', class_='editorskit-block-link')\n",
    "locations_urls = [link['href'] for link in locations_urls]\n",
    "locations_urls"
   ]
  },
  {
   "cell_type": "code",
   "execution_count": 7,
   "metadata": {},
   "outputs": [],
   "source": [
    "locations_urls = [\n",
    "    'https://www.advancedrecoverysystems.com/centers/recovery-village-palmer-lake/',\n",
    "    'https://www.advancedrecoverysystems.com/centers/denver-mental-health-and-counseling/',\n",
    "    'https://www.advancedrecoverysystems.com/centers/the-recovery-village/',\n",
    "    'https://www.advancedrecoverysystems.com/centers/orlando-recovery-center/',\n",
    "    'https://www.advancedrecoverysystems.com/centers/recovery-village-palm-beach/',\n",
    "    'https://www.advancedrecoverysystems.com/centers/orlando-outpatient/',\n",
    "    'https://www.advancedrecoverysystems.com/centers/recovery-village-miami/',\n",
    "    'https://www.advancedrecoverysystems.com/centers/the-recovery-village-atlanta/',\n",
    "    'https://www.advancedrecoverysystems.com/centers/iaff-recovery-center/',\n",
    "    'https://www.advancedrecoverysystems.com/centers/the-recovery-village-kansas-city/',\n",
    "    'https://www.advancedrecoverysystems.com/centers/the-recovery-village-cherry-hill/',\n",
    "    'https://www.advancedrecoverysystems.com/centers/the-recovery-village-columbus/',\n",
    "    'https://www.advancedrecoverysystems.com/centers/recovery-village-ridgefield/',\n",
    "    'https://www.advancedrecoverysystems.com/centers/the-recovery-village-ridgefield-detox/'\n",
    "]"
   ]
  },
  {
   "cell_type": "code",
   "execution_count": 9,
   "metadata": {},
   "outputs": [],
   "source": [
    "# Location data extraction\n",
    "for url in locations_urls:\n",
    "    soup = extract_html(url)\n",
    "\n",
    "    elements = [\n",
    "        soup.find('div', class_='eb-column-wrapper eb-column-z40i840'),\n",
    "        soup.find('div', class_='wp-block-columns center-address-cols is-layout-flex wp-container-core-columns-is-layout-1 wp-block-columns-is-layout-flex'),\n",
    "        soup.find('div', class_='wp-block-columns alignwide privacy-pattern-section is-layout-flex wp-container-core-columns-is-layout-3 wp-block-columns-is-layout-flex'),\n",
    "        soup.find('div', class_='eb-parent-wrapper eb-parent-eb-wrapper-oqtq92c'),\n",
    "        soup.find('div', class_='wp-block-column our-amenitiesRt is-layout-flow wp-block-column-is-layout-flow')\n",
    "    ]\n",
    "\n",
    "    for element in elements:\n",
    "        if element:\n",
    "            save_to_text_file(element.text)"
   ]
  },
  {
   "cell_type": "markdown",
   "metadata": {},
   "source": [
    "## Programs"
   ]
  },
  {
   "cell_type": "code",
   "execution_count": 10,
   "metadata": {},
   "outputs": [],
   "source": [
    "programs_urls = [\n",
    "    'https://www.advancedrecoverysystems.com/detox-programs/',\n",
    "    'https://www.advancedrecoverysystems.com/residential-programs/',\n",
    "    'https://www.advancedrecoverysystems.com/outpatient-programs/',\n",
    "    'https://www.advancedrecoverysystems.com/residential-mental-health-rehab/'\n",
    "    'https://www.advancedrecoverysystems.com/nobu/'\n",
    "]"
   ]
  },
  {
   "cell_type": "code",
   "execution_count": 11,
   "metadata": {},
   "outputs": [],
   "source": [
    "# Program data extraction\n",
    "for url in programs_urls:\n",
    "    soup = extract_html(url)\n",
    "\n",
    "    content = soup.find('div', class_='entry-content')\n",
    "    if content:\n",
    "        save_to_text_file(content.text)"
   ]
  },
  {
   "cell_type": "code",
   "execution_count": null,
   "metadata": {},
   "outputs": [],
   "source": []
  }
 ],
 "metadata": {
  "kernelspec": {
   "display_name": "llmsenv",
   "language": "python",
   "name": "python3"
  },
  "language_info": {
   "codemirror_mode": {
    "name": "ipython",
    "version": 3
   },
   "file_extension": ".py",
   "mimetype": "text/x-python",
   "name": "python",
   "nbconvert_exporter": "python",
   "pygments_lexer": "ipython3",
   "version": "3.12.1"
  }
 },
 "nbformat": 4,
 "nbformat_minor": 2
}
